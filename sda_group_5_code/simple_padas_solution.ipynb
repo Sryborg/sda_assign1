{
 "cells": [
  {
   "cell_type": "code",
   "execution_count": 2,
   "metadata": {},
   "outputs": [],
   "source": [
    "import os\n",
    "import pandas as pd"
   ]
  },
  {
   "cell_type": "code",
   "execution_count": 3,
   "metadata": {},
   "outputs": [
    {
     "data": {
      "text/plain": [
       "['.DS_Store',\n",
       " 'simple_padas_solution.ipynb',\n",
       " 'mpi_master_slave.py',\n",
       " 'geosales.csv',\n",
       " 'test_openmpi.py',\n",
       " 'solution2_masterSlave.py',\n",
       " 'README.md',\n",
       " '.ipynb_checkpoints',\n",
       " 'solution1_partition.py']"
      ]
     },
     "execution_count": 3,
     "metadata": {},
     "output_type": "execute_result"
    }
   ],
   "source": [
    "os.listdir()"
   ]
  },
  {
   "cell_type": "code",
   "execution_count": 4,
   "metadata": {},
   "outputs": [],
   "source": [
    "main_df = pd.read_csv(\"geosales.csv\")"
   ]
  },
  {
   "cell_type": "code",
   "execution_count": 5,
   "metadata": {},
   "outputs": [
    {
     "data": {
      "text/plain": [
       "Index(['index', 'region', 'country', 'item_type', 'sales_channel',\n",
       "       'order_priority', 'order_date', 'order_id', 'ship_date', 'units_sold',\n",
       "       'unit_price', 'unit_cost', 'total_revenue', 'total_cost',\n",
       "       'total_profit'],\n",
       "      dtype='object')"
      ]
     },
     "execution_count": 5,
     "metadata": {},
     "output_type": "execute_result"
    }
   ],
   "source": [
    "main_df.columns"
   ]
  },
  {
   "cell_type": "code",
   "execution_count": 6,
   "metadata": {},
   "outputs": [
    {
     "name": "stdout",
     "output_type": "stream",
     "text": [
      "Ans A). \n",
      "The below numbers give the units sold for each region\n"
     ]
    },
    {
     "data": {
      "text/plain": [
       "region\n",
       "Asia                                  72822259\n",
       "Australia and Oceania                 40797618\n",
       "Central America and the Caribbean     53871798\n",
       "Europe                               128664731\n",
       "Middle East and North Africa          63251625\n",
       "North America                         10845905\n",
       "Sub-Saharan Africa                   129890681\n",
       "Name: units_sold, dtype: int64"
      ]
     },
     "execution_count": 6,
     "metadata": {},
     "output_type": "execute_result"
    }
   ],
   "source": [
    "print(\"Ans A). \\nThe below numbers give the units sold for each region\")\n",
    "main_df.groupby(\"region\").sum()[\"units_sold\"]"
   ]
  },
  {
   "cell_type": "code",
   "execution_count": 9,
   "metadata": {},
   "outputs": [
    {
     "name": "stdout",
     "output_type": "stream",
     "text": [
      "Ans B). \n",
      "The below numbers give the total profit for each region\n"
     ]
    },
    {
     "data": {
      "text/plain": [
       "region\n",
       "Asia                                 392349.729618\n",
       "Australia and Oceania                391399.428248\n",
       "Central America and the Caribbean    399516.403175\n",
       "Europe                               389557.502456\n",
       "Middle East and North Africa         395829.441882\n",
       "North America                        409072.487970\n",
       "Sub-Saharan Africa                   396107.177149\n",
       "Name: total_profit, dtype: float64"
      ]
     },
     "execution_count": 9,
     "metadata": {},
     "output_type": "execute_result"
    }
   ],
   "source": [
    "print(\"Ans B). \\nThe below numbers give the total profit for each region\")\n",
    "main_df.groupby(\"region\").mean()[\"total_profit\"]"
   ]
  },
  {
   "cell_type": "code",
   "execution_count": 10,
   "metadata": {},
   "outputs": [
    {
     "data": {
      "text/plain": [
       "region\n",
       "Asia                                 5.707512e+09\n",
       "Australia and Oceania                3.175424e+09\n",
       "Central America and the Caribbean    4.287211e+09\n",
       "Europe                               1.008058e+10\n",
       "Middle East and North Africa         4.979534e+09\n",
       "North America                        8.725516e+08\n",
       "Sub-Saharan Africa                   1.030631e+10\n",
       "Name: total_profit, dtype: float64"
      ]
     },
     "execution_count": 10,
     "metadata": {},
     "output_type": "execute_result"
    }
   ],
   "source": [
    "main_df.groupby(\"region\").sum()[\"total_profit\"]"
   ]
  },
  {
   "cell_type": "code",
   "execution_count": 11,
   "metadata": {},
   "outputs": [
    {
     "data": {
      "text/plain": [
       "region\n",
       "Asia                                 14547\n",
       "Australia and Oceania                 8113\n",
       "Central America and the Caribbean    10731\n",
       "Europe                               25877\n",
       "Middle East and North Africa         12580\n",
       "North America                         2133\n",
       "Sub-Saharan Africa                   26019\n",
       "Name: total_profit, dtype: int64"
      ]
     },
     "execution_count": 11,
     "metadata": {},
     "output_type": "execute_result"
    }
   ],
   "source": [
    "main_df.groupby(\"region\").count()[\"total_profit\"]"
   ]
  },
  {
   "cell_type": "code",
   "execution_count": 12,
   "metadata": {},
   "outputs": [
    {
     "data": {
      "text/plain": [
       "396107.075598601"
      ]
     },
     "execution_count": 12,
     "metadata": {},
     "output_type": "execute_result"
    }
   ],
   "source": [
    "1.030631e+10/26019"
   ]
  },
  {
   "cell_type": "code",
   "execution_count": null,
   "metadata": {},
   "outputs": [],
   "source": []
  }
 ],
 "metadata": {
  "interpreter": {
   "hash": "aee8b7b246df8f9039afb4144a1f6fd8d2ca17a180786b69acc140d282b71a49"
  },
  "kernelspec": {
   "display_name": "Python 3.9.10 64-bit",
   "language": "python",
   "name": "python3"
  },
  "language_info": {
   "codemirror_mode": {
    "name": "ipython",
    "version": 3
   },
   "file_extension": ".py",
   "mimetype": "text/x-python",
   "name": "python",
   "nbconvert_exporter": "python",
   "pygments_lexer": "ipython3",
   "version": "3.9.10"
  },
  "orig_nbformat": 4
 },
 "nbformat": 4,
 "nbformat_minor": 2
}
